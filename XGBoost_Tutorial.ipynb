{
  "nbformat": 4,
  "nbformat_minor": 0,
  "metadata": {
    "colab": {
      "name": "XGBoost Tutorial",
      "provenance": [],
      "collapsed_sections": [],
      "authorship_tag": "ABX9TyOecyK73Mv+QgluUiCdGuk5",
      "include_colab_link": true
    },
    "kernelspec": {
      "name": "python3",
      "display_name": "Python 3"
    }
  },
  "cells": [
    {
      "cell_type": "markdown",
      "metadata": {
        "id": "view-in-github",
        "colab_type": "text"
      },
      "source": [
        "<a href=\"https://colab.research.google.com/github/Loyloyy/XGBoost-/blob/master/XGBoost_Tutorial.ipynb\" target=\"_parent\"><img src=\"https://colab.research.google.com/assets/colab-badge.svg\" alt=\"Open In Colab\"/></a>"
      ]
    },
    {
      "cell_type": "markdown",
      "metadata": {
        "id": "F6ZEGzqQA0Pz",
        "colab_type": "text"
      },
      "source": [
        "#Guide on tuning parameters for XGBoost\n",
        " This guide is to help me and any others learn on how easy it can be to actually tune XGBoost and see how powerful this algorithm can be as well. \n",
        "\n",
        " Most of the guide and code here ahs been forked from this article:\n",
        " https://www.analyticsvidhya.com/blog/2016/03/complete-guide-parameter-tuning-xgboost-with-codes-python/\n",
        "\n",
        " The code has been tweaked to correct parameters and that has been changed as well as of 2020."
      ]
    },
    {
      "cell_type": "code",
      "metadata": {
        "id": "rDi-SQICQAe2",
        "colab_type": "code",
        "colab": {}
      },
      "source": [
        "#Import relevant libraries in\n",
        "import io\n",
        "import pandas as pd\n",
        "import numpy as np\n",
        "import xgboost as xgb\n",
        "from xgboost.sklearn import XGBClassifier\n",
        "import sklearn.metrics as metrics\n",
        "from sklearn.model_selection import cross_validate   #Additional scklearn functions\n",
        "from sklearn.model_selection import GridSearchCV   #Perforing grid search\n",
        "import matplotlib.pylab as plt\n",
        "from matplotlib.pylab import rcParams\n",
        "rcParams['figure.figsize'] = 12, 4"
      ],
      "execution_count": 0,
      "outputs": []
    },
    {
      "cell_type": "markdown",
      "metadata": {
        "id": "OZkxEcNZwt4v",
        "colab_type": "text"
      },
      "source": [
        "Then we import the dataset in"
      ]
    },
    {
      "cell_type": "code",
      "metadata": {
        "id": "uH8r7DIcQj55",
        "colab_type": "code",
        "outputId": "2420964e-18e2-4f8c-b441-c37ff601fd4e",
        "colab": {
          "resources": {
            "http://localhost:8080/nbextensions/google.colab/files.js": {
              "data": "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",
              "ok": true,
              "headers": [
                [
                  "content-type",
                  "application/javascript"
                ]
              ],
              "status": 200,
              "status_text": ""
            }
          },
          "base_uri": "https://localhost:8080/",
          "height": 74
        }
      },
      "source": [
        "from google.colab import files\n",
        "uploaded = files.upload()"
      ],
      "execution_count": 0,
      "outputs": [
        {
          "output_type": "display_data",
          "data": {
            "text/html": [
              "\n",
              "     <input type=\"file\" id=\"files-ecf9ceb5-738d-44d4-a319-fb660ad96190\" name=\"files[]\" multiple disabled />\n",
              "     <output id=\"result-ecf9ceb5-738d-44d4-a319-fb660ad96190\">\n",
              "      Upload widget is only available when the cell has been executed in the\n",
              "      current browser session. Please rerun this cell to enable.\n",
              "      </output>\n",
              "      <script src=\"/nbextensions/google.colab/files.js\"></script> "
            ],
            "text/plain": [
              "<IPython.core.display.HTML object>"
            ]
          },
          "metadata": {
            "tags": []
          }
        },
        {
          "output_type": "stream",
          "text": [
            "Saving train_modified.csv to train_modified.csv\n"
          ],
          "name": "stdout"
        }
      ]
    },
    {
      "cell_type": "code",
      "metadata": {
        "id": "8YesIjOSRyeM",
        "colab_type": "code",
        "colab": {}
      },
      "source": [
        "train = pd.read_csv(io.BytesIO(uploaded['train_modified.csv']))"
      ],
      "execution_count": 0,
      "outputs": []
    },
    {
      "cell_type": "markdown",
      "metadata": {
        "id": "HqcHHEgBTqFi",
        "colab_type": "text"
      },
      "source": [
        "As shown at the top, 2 forms of XGBoost were imported\n",
        "\n",
        "\"import xgboost as xgb\" - This is the direct xgboost library. and it will mainly be used for it's cross validation function\n",
        "\n",
        "\"XGBClassifier\" – This is the sklearn wrapper for XGBoost. This will allow us to use Sklearn’s Grid Search with parallel processing.\n",
        "\n",
        "Before proceeding further, lets define a function which will help us create XGBoost models and perform cross-validation."
      ]
    },
    {
      "cell_type": "code",
      "metadata": {
        "id": "snQwNxydTX8N",
        "colab_type": "code",
        "colab": {}
      },
      "source": [
        "def modelfit(alg, dtrain, predictors,useTrainCV=True, cv_folds=5, early_stopping_rounds=50):\n",
        "    \n",
        "    if useTrainCV:\n",
        "        xgb_param = alg.get_xgb_params()\n",
        "        xgtrain = xgb.DMatrix(dtrain[predictors].values, label=dtrain[target].values)\n",
        "        cvresult = xgb.cv(xgb_param, xgtrain, num_boost_round=alg.get_params()['n_estimators'], nfold=cv_folds,\n",
        "            metrics='auc', early_stopping_rounds=early_stopping_rounds, verbose_eval=None)\n",
        "        alg.set_params(n_estimators=cvresult.shape[0])\n",
        "\n",
        "    print(cvresult)\n",
        "    #Fit the algorithm on the data\n",
        "    alg.fit(dtrain[predictors], dtrain['Disbursed'],eval_metric='auc')\n",
        "        \n",
        "    #Predict training set:\n",
        "    dtrain_predictions = alg.predict(dtrain[predictors])\n",
        "    dtrain_predprob = alg.predict_proba(dtrain[predictors])[:,1]\n",
        "        \n",
        "    #Print model report:\n",
        "    print(\"\\nModel Report\")\n",
        "    print(\"Accuracy : %.4g\" % metrics.accuracy_score(dtrain['Disbursed'].values, dtrain_predictions))\n",
        "    print(\"AUC Score (Train): %f\" % metrics.roc_auc_score(dtrain['Disbursed'], dtrain_predprob))\n",
        "\n",
        "    print(\"Best Iteration: {}\".format(alg.get_booster().best_iteration))\n",
        "    feat_imp = pd.Series(alg.get_booster().get_fscore()).sort_values(ascending=False)\n",
        "    feat_imp.plot(kind='bar', title='Feature Importances')\n",
        "    plt.ylabel('Feature Importance Score')\n",
        "    plt.show()\n"
      ],
      "execution_count": 0,
      "outputs": []
    },
    {
      "cell_type": "markdown",
      "metadata": {
        "id": "jAicfnq0x529",
        "colab_type": "text"
      },
      "source": [
        "#General Parameters\n",
        "These define the overall functionality of XGBoost. \n",
        "\n",
        "1.   Booster [default=gbtree]\n",
        "      *   gbtree or dart: Tree-based mode\n",
        "      *   gblinear: Linear models\n",
        "\n",
        "2.   verbosity [default=1]\n",
        "      *   Verbosity of printing messages. Valid values are 0 (silent), 1 (warning), 2 (info), 3 (debug). Sometimes XGBoost tries to change configurations based on heuristics, which is displayed as warning message. If there’s unexpected behaviour, please try to increase value of verbosity.\n",
        "      *   It’s generally good to keep it 1 as the messages might help in understanding the model.\n",
        "\n",
        "3.   nthread [default to maximum number of threads available if not set]\n",
        "    *   This is used for parallel processing and number of cores in the system should be entered\n",
        "    *   If you wish to run on all cores, value should not be entered and algorithm will detect automatically\n",
        "\n",
        "There are also several other features but we will not be using them here.\n",
        "\n",
        "Other parameters include:\n",
        "*   validate_parameters [still experimental and may give false positives]\n",
        "*   disable_default_eval_metric [flag to disable default metric]\n",
        "*   num_pbuffer [size of prediction bugger which is set automatically by XGBoost]\n",
        "*   num_feature [feature dimension used in boosting which is also set automatically by XGBoost]"
      ]
    },
    {
      "cell_type": "markdown",
      "metadata": {
        "id": "ZRXm5Tyi1kl3",
        "colab_type": "text"
      },
      "source": [
        "#Parameters for Tree Booster\n",
        "The parameters for tuning the tree can be found over at https://xgboost.readthedocs.io/en/latest/parameter.html"
      ]
    },
    {
      "cell_type": "markdown",
      "metadata": {
        "id": "mnwjbcVaTxpL",
        "colab_type": "text"
      },
      "source": [
        "#First Step\n",
        "Before deciding on boosting parameters, the other parameters will need to be set as well\n",
        "Here in this section, we shall set some initial values for the other parameters\n",
        "\n",
        "The code below shows initial parameters for xgb1. The result will the incate to us which was the best iteration. From there, we can then set the number of estimators (n_estimators) accordingly."
      ]
    },
    {
      "cell_type": "code",
      "metadata": {
        "id": "x5loIOmMTx7U",
        "colab_type": "code",
        "outputId": "895b6306-9427-4928-dc9c-ecaa05f04182",
        "colab": {
          "base_uri": "https://localhost:8080/",
          "height": 840
        }
      },
      "source": [
        "target = 'Disbursed'\n",
        "IDcol = 'ID'\n",
        "predictors = [x for x in train.columns if x not in [target, IDcol]]\n",
        "\n",
        "xgb1 = XGBClassifier(\n",
        " learning_rate =0.1,\n",
        " n_estimators=1000,\n",
        " max_depth=5,\n",
        " min_child_weight=1,\n",
        " gamma=0,\n",
        " subsample=0.8,\n",
        " colsample_bytree=0.8,\n",
        " objective= 'binary:logistic',\n",
        " nthread=4,\n",
        " scale_pos_weight=1,\n",
        " seed=27)\n",
        "\n",
        "predictors\n",
        "#Using modelfit function to then find the best number of estimators\n",
        "#modelfit(xgb1, train, predictors)"
      ],
      "execution_count": 0,
      "outputs": [
        {
          "output_type": "execute_result",
          "data": {
            "text/plain": [
              "['Existing_EMI',\n",
              " 'Loan_Amount_Applied',\n",
              " 'Loan_Tenure_Applied',\n",
              " 'Monthly_Income',\n",
              " 'Var4',\n",
              " 'Var5',\n",
              " 'Age',\n",
              " 'EMI_Loan_Submitted_Missing',\n",
              " 'Interest_Rate_Missing',\n",
              " 'Loan_Amount_Submitted_Missing',\n",
              " 'Loan_Tenure_Submitted_Missing',\n",
              " 'Processing_Fee_Missing',\n",
              " 'Device_Type_0',\n",
              " 'Device_Type_1',\n",
              " 'Filled_Form_0',\n",
              " 'Filled_Form_1',\n",
              " 'Gender_0',\n",
              " 'Gender_1',\n",
              " 'Var1_0',\n",
              " 'Var1_1',\n",
              " 'Var1_2',\n",
              " 'Var1_3',\n",
              " 'Var1_4',\n",
              " 'Var1_5',\n",
              " 'Var1_6',\n",
              " 'Var1_7',\n",
              " 'Var1_8',\n",
              " 'Var1_9',\n",
              " 'Var1_10',\n",
              " 'Var1_11',\n",
              " 'Var1_12',\n",
              " 'Var1_13',\n",
              " 'Var1_14',\n",
              " 'Var1_15',\n",
              " 'Var1_16',\n",
              " 'Var1_17',\n",
              " 'Var1_18',\n",
              " 'Var2_0',\n",
              " 'Var2_1',\n",
              " 'Var2_2',\n",
              " 'Var2_3',\n",
              " 'Var2_4',\n",
              " 'Var2_5',\n",
              " 'Var2_6',\n",
              " 'Mobile_Verified_0',\n",
              " 'Mobile_Verified_1',\n",
              " 'Source_0',\n",
              " 'Source_1',\n",
              " 'Source_2']"
            ]
          },
          "metadata": {
            "tags": []
          },
          "execution_count": 9
        }
      ]
    },
    {
      "cell_type": "markdown",
      "metadata": {
        "id": "bNhjMxRTUKSY",
        "colab_type": "text"
      },
      "source": [
        "The out put indicated that the best estimation paramter is 133. \n",
        "\n",
        "As this can be computatinally expensive, an alternative will be to increase the learning rate to get a reduced number of estimators so as to save time for the following procedures below."
      ]
    },
    {
      "cell_type": "markdown",
      "metadata": {
        "id": "zstBAkcKURV9",
        "colab_type": "text"
      },
      "source": [
        "#Second Step\n",
        "Second step will be to tune the max_depth and min_child_weight\n",
        "\n",
        "The reason for tuning these first is because they will have the highest impact on model outcome.\n",
        "As this part utilises grid search, it can take quite a while to give a result as well\n",
        "\n",
        "Do remember to change the n_estimators parameter accordingly too!"
      ]
    },
    {
      "cell_type": "code",
      "metadata": {
        "id": "labBoskpUVhH",
        "colab_type": "code",
        "outputId": "2cee5703-ee51-4c00-e0a6-c326ec650ab8",
        "colab": {
          "base_uri": "https://localhost:8080/",
          "height": 632
        }
      },
      "source": [
        "param_test1 = {\n",
        " 'max_depth':range(3,10,2),\n",
        " 'min_child_weight':range(1,6,2)\n",
        "}\n",
        "gsearch1 = GridSearchCV(estimator = XGBClassifier( learning_rate =0.1, n_estimators=133, max_depth=5,\n",
        " min_child_weight=1, gamma=0, subsample=0.8, colsample_bytree=0.8,\n",
        " objective= 'binary:logistic', nthread=4, scale_pos_weight=1, seed=27), \n",
        " param_grid = param_test1, scoring='roc_auc',n_jobs=4,iid=False, cv=5)\n",
        "gsearch1.fit(train[predictors],train[target])\n",
        "print(gsearch1.cv_results_)\n",
        "print(gsearch1.best_params_)\n",
        "print(gsearch1.best_score_)"
      ],
      "execution_count": 0,
      "outputs": [
        {
          "output_type": "stream",
          "text": [
            "/usr/local/lib/python3.6/dist-packages/sklearn/model_selection/_search.py:823: FutureWarning: The parameter 'iid' is deprecated in 0.22 and will be removed in 0.24.\n",
            "  \"removed in 0.24.\", FutureWarning\n"
          ],
          "name": "stderr"
        },
        {
          "output_type": "stream",
          "text": [
            "{'mean_fit_time': array([ 38.3097065 ,  39.42574406,  37.27901196,  58.5935595 ,\n",
            "        58.09961457,  57.86428876,  81.24918909,  80.34294047,\n",
            "        80.92614975, 106.71497626, 102.74040389,  90.81709676]), 'std_fit_time': array([1.30651632, 1.71842824, 0.23531414, 0.36246008, 0.427661  ,\n",
            "       0.3169655 , 0.97604646, 0.57534905, 1.83158634, 1.74656595,\n",
            "       1.15708048, 9.68297721]), 'mean_score_time': array([0.25914369, 0.23789883, 0.22295504, 0.31896167, 0.32163358,\n",
            "       0.4019846 , 0.44134588, 0.44384203, 0.45587711, 0.57550082,\n",
            "       0.52925253, 0.36471925]), 'std_score_time': array([0.0630135 , 0.04447037, 0.06010633, 0.06638953, 0.05170725,\n",
            "       0.03647845, 0.04260678, 0.03596588, 0.03853369, 0.07431987,\n",
            "       0.06763627, 0.18209949]), 'param_max_depth': masked_array(data=[3, 3, 3, 5, 5, 5, 7, 7, 7, 9, 9, 9],\n",
            "             mask=[False, False, False, False, False, False, False, False,\n",
            "                   False, False, False, False],\n",
            "       fill_value='?',\n",
            "            dtype=object), 'param_min_child_weight': masked_array(data=[1, 3, 5, 1, 3, 5, 1, 3, 5, 1, 3, 5],\n",
            "             mask=[False, False, False, False, False, False, False, False,\n",
            "                   False, False, False, False],\n",
            "       fill_value='?',\n",
            "            dtype=object), 'params': [{'max_depth': 3, 'min_child_weight': 1}, {'max_depth': 3, 'min_child_weight': 3}, {'max_depth': 3, 'min_child_weight': 5}, {'max_depth': 5, 'min_child_weight': 1}, {'max_depth': 5, 'min_child_weight': 3}, {'max_depth': 5, 'min_child_weight': 5}, {'max_depth': 7, 'min_child_weight': 1}, {'max_depth': 7, 'min_child_weight': 3}, {'max_depth': 7, 'min_child_weight': 5}, {'max_depth': 9, 'min_child_weight': 1}, {'max_depth': 9, 'min_child_weight': 3}, {'max_depth': 9, 'min_child_weight': 5}], 'split0_test_score': array([0.82486754, 0.82475655, 0.82543617, 0.83308946, 0.83389431,\n",
            "       0.83063486, 0.827137  , 0.83006531, 0.82831248, 0.81959987,\n",
            "       0.81922821, 0.82000471]), 'split1_test_score': array([0.82935447, 0.82357832, 0.82543169, 0.83477044, 0.83503271,\n",
            "       0.83551675, 0.82831524, 0.8316229 , 0.83575538, 0.82370744,\n",
            "       0.82566895, 0.831925  ]), 'split2_test_score': array([0.84405219, 0.84397581, 0.84539074, 0.84863315, 0.84766676,\n",
            "       0.84907861, 0.84333197, 0.84442916, 0.84055173, 0.83496814,\n",
            "       0.83671568, 0.83875639]), 'split3_test_score': array([0.84947467, 0.84847696, 0.84980168, 0.85063875, 0.84748393,\n",
            "       0.84855254, 0.8438354 , 0.84442264, 0.84601034, 0.83976199,\n",
            "       0.83636135, 0.83801902]), 'split4_test_score': array([0.84499742, 0.84434032, 0.84394277, 0.84068344, 0.84095923,\n",
            "       0.83841017, 0.83568813, 0.83779343, 0.8381337 , 0.82615187,\n",
            "       0.83292732, 0.83231081]), 'mean_test_score': array([0.83854926, 0.83702559, 0.83800061, 0.84156305, 0.84100739,\n",
            "       0.84043858, 0.83566155, 0.83766669, 0.83775273, 0.82883786,\n",
            "       0.8301803 , 0.83220319]), 'std_test_score': array([0.00962247, 0.01062359, 0.01044061, 0.00708618, 0.00587516,\n",
            "       0.00727926, 0.0071033 , 0.00609423, 0.00581851, 0.00742689,\n",
            "       0.00676407, 0.00671804]), 'rank_test_score': array([ 4,  8,  5,  1,  2,  3,  9,  7,  6, 12, 11, 10], dtype=int32)}\n",
            "{'max_depth': 5, 'min_child_weight': 1}\n",
            "0.841563047429517\n"
          ],
          "name": "stdout"
        }
      ]
    },
    {
      "cell_type": "markdown",
      "metadata": {
        "id": "M2hldU8ZUgzX",
        "colab_type": "text"
      },
      "source": [
        "From the above, 9 combinations have been ran with wider intervals between values. The ideal values are 5 for max_depth and 1 for min_child_weight. Lets go one step deeper and look for optimum values. We’ll search for values 1 above and below the optimum values because we took an interval of two.\n",
        "\n",
        "Hence, for \"max_depth\", as the previous result was 5, we shall use 4, 5 and 6 now. While for \"min_child_weight\", as the previous result was 1, we shall find 1, 2, 3.\n",
        "\n",
        "Do remember to change the max_depth and min_child_weight parameters accordingly too!"
      ]
    },
    {
      "cell_type": "code",
      "metadata": {
        "id": "ZUbNdRasUp75",
        "colab_type": "code",
        "outputId": "5107c7ab-5466-4691-c3d3-0e0a409f2c04",
        "colab": {
          "base_uri": "https://localhost:8080/",
          "height": 440
        }
      },
      "source": [
        "param_test2 = {\n",
        " 'max_depth':[4,5,6],\n",
        " 'min_child_weight':[1,2,3]\n",
        "}\n",
        "gsearch2 = GridSearchCV(estimator = XGBClassifier( learning_rate=0.1, n_estimators=133, max_depth=5,\n",
        " min_child_weight=1, gamma=0, subsample=0.8, colsample_bytree=0.8,\n",
        " objective= 'binary:logistic', nthread=4, scale_pos_weight=1,seed=27), \n",
        " param_grid = param_test2, scoring='roc_auc',n_jobs=4,iid=False, cv=5)\n",
        "gsearch2.fit(train[predictors],train[target])\n",
        "print(gsearch2.cv_results_)\n",
        "print(gsearch2.best_params_)\n",
        "print(gsearch2.best_score_)"
      ],
      "execution_count": 0,
      "outputs": [
        {
          "output_type": "stream",
          "text": [
            "/usr/local/lib/python3.6/dist-packages/sklearn/model_selection/_search.py:823: FutureWarning: The parameter 'iid' is deprecated in 0.22 and will be removed in 0.24.\n",
            "  \"removed in 0.24.\", FutureWarning\n"
          ],
          "name": "stderr"
        },
        {
          "output_type": "stream",
          "text": [
            "{'mean_fit_time': array([47.44180226, 47.17277865, 47.20586839, 58.4891499 , 58.10971279,\n",
            "       57.90734792, 69.31232038, 69.09539423, 58.06259532]), 'std_fit_time': array([ 0.28495625,  0.32296626,  0.41079082,  0.36323216,  0.17559545,\n",
            "        0.38005227,  0.74749787,  0.5116026 , 15.4600477 ]), 'mean_score_time': array([0.27078028, 0.28350501, 0.2520546 , 0.34619174, 0.35981002,\n",
            "       0.35046659, 0.39626074, 0.38930922, 0.26457105]), 'std_score_time': array([0.05542988, 0.06303022, 0.06043794, 0.05946254, 0.05416371,\n",
            "       0.0580182 , 0.06866352, 0.01096199, 0.13498545]), 'param_max_depth': masked_array(data=[4, 4, 4, 5, 5, 5, 6, 6, 6],\n",
            "             mask=[False, False, False, False, False, False, False, False,\n",
            "                   False],\n",
            "       fill_value='?',\n",
            "            dtype=object), 'param_min_child_weight': masked_array(data=[1, 2, 3, 1, 2, 3, 1, 2, 3],\n",
            "             mask=[False, False, False, False, False, False, False, False,\n",
            "                   False],\n",
            "       fill_value='?',\n",
            "            dtype=object), 'params': [{'max_depth': 4, 'min_child_weight': 1}, {'max_depth': 4, 'min_child_weight': 2}, {'max_depth': 4, 'min_child_weight': 3}, {'max_depth': 5, 'min_child_weight': 1}, {'max_depth': 5, 'min_child_weight': 2}, {'max_depth': 5, 'min_child_weight': 3}, {'max_depth': 6, 'min_child_weight': 1}, {'max_depth': 6, 'min_child_weight': 2}, {'max_depth': 6, 'min_child_weight': 3}], 'split0_test_score': array([0.82923314, 0.83040128, 0.83066229, 0.83308946, 0.82727153,\n",
            "       0.83389431, 0.83228243, 0.83349039, 0.83098081]), 'split1_test_score': array([0.83064725, 0.83047669, 0.8296801 , 0.83477044, 0.83509056,\n",
            "       0.83503271, 0.83328539, 0.83759728, 0.83671736]), 'split2_test_score': array([0.85026338, 0.84877595, 0.84948691, 0.84863315, 0.85053962,\n",
            "       0.84766676, 0.8492205 , 0.84969477, 0.84987234]), 'split3_test_score': array([0.84673239, 0.84842025, 0.84795375, 0.85063875, 0.84929265,\n",
            "       0.84748393, 0.84527069, 0.84538366, 0.84678578]), 'split4_test_score': array([0.84411393, 0.8423872 , 0.84232614, 0.84068344, 0.8428059 ,\n",
            "       0.84095923, 0.83832842, 0.83586421, 0.83944105]), 'mean_test_score': array([0.84019802, 0.84009227, 0.84002184, 0.84156305, 0.84100005,\n",
            "       0.84100739, 0.83967749, 0.84040606, 0.84075947]), 'std_test_score': array([0.0086115 , 0.00820248, 0.00839482, 0.00708618, 0.0087912 ,\n",
            "       0.00587516, 0.00662901, 0.0061221 , 0.0068273 ]), 'rank_test_score': array([6, 7, 8, 1, 3, 2, 9, 5, 4], dtype=int32)}\n",
            "{'max_depth': 5, 'min_child_weight': 1}\n",
            "0.841563047429517\n"
          ],
          "name": "stdout"
        }
      ]
    },
    {
      "cell_type": "markdown",
      "metadata": {
        "id": "YzWfHBQ09uxB",
        "colab_type": "text"
      },
      "source": [
        "The result was still the same and we can conlcude that these figures are the most appropiate for the current problem.\n",
        "\n",
        "However as the min_child_weight is still at the lowest, we can go even further to see if we can take another step deeper to look for more optimum values."
      ]
    },
    {
      "cell_type": "code",
      "metadata": {
        "id": "3-F-bo_7Y0B_",
        "colab_type": "code",
        "outputId": "4f972028-b0ac-41cf-e393-ccdbba1acefb",
        "colab": {
          "base_uri": "https://localhost:8080/",
          "height": 913
        }
      },
      "source": [
        "param_test2b = {'min_child_weight':[0.5,1,1.5]}\n",
        "gsearch2b = GridSearchCV(estimator = XGBClassifier( learning_rate=0.1, n_estimators=140, max_depth=5,\n",
        " min_child_weight=1, gamma=0, subsample=0.8, colsample_bytree=0.8,\n",
        " objective= 'binary:logistic', nthread=4, scale_pos_weight=1,seed=27), \n",
        " param_grid = param_test2b, scoring='roc_auc',n_jobs=4,iid=False, cv=5)\n",
        "gsearch2b.fit(train[predictors],train[target])\n",
        "\n",
        "modelfit(gsearch2b.best_estimator_, train, predictors)\n",
        "print(gsearch2b.cv_results_)\n",
        "print(gsearch2b.best_params_)\n",
        "print(gsearch2b.best_score_)"
      ],
      "execution_count": 0,
      "outputs": [
        {
          "output_type": "stream",
          "text": [
            "/usr/local/lib/python3.6/dist-packages/sklearn/model_selection/_search.py:823: FutureWarning: The parameter 'iid' is deprecated in 0.22 and will be removed in 0.24.\n",
            "  \"removed in 0.24.\", FutureWarning\n"
          ],
          "name": "stderr"
        },
        {
          "output_type": "stream",
          "text": [
            "     train-auc-mean  train-auc-std  test-auc-mean  test-auc-std\n",
            "0          0.788783       0.005993       0.785430      0.017835\n",
            "1          0.802262       0.007334       0.794420      0.015611\n",
            "2          0.810138       0.005614       0.800453      0.019180\n",
            "3          0.816026       0.006358       0.805943      0.019725\n",
            "4          0.822108       0.004766       0.809853      0.019539\n",
            "..              ...            ...            ...           ...\n",
            "135        0.910998       0.003173       0.843494      0.014412\n",
            "136        0.911297       0.003173       0.843355      0.014433\n",
            "137        0.911797       0.003209       0.843487      0.014405\n",
            "138        0.912131       0.003223       0.843347      0.014347\n",
            "139        0.912442       0.003192       0.843338      0.014417\n",
            "\n",
            "[140 rows x 4 columns]\n",
            "\n",
            "Model Report\n",
            "Accuracy : 0.9854\n",
            "AUC Score (Train): 0.901530\n",
            "Best Iteration: 139\n"
          ],
          "name": "stdout"
        },
        {
          "output_type": "display_data",
          "data": {
            "image/png": "[encoded data removed]",
            "text/plain": [
              "<Figure size 864x288 with 1 Axes>"
            ]
          },
          "metadata": {
            "tags": [],
            "needs_background": "light"
          }
        },
        {
          "output_type": "stream",
          "text": [
            "{'mean_fit_time': array([61.35651336, 61.22272773, 51.990587  ]), 'std_fit_time': array([0.31531938, 0.41557154, 7.36085565]), 'mean_score_time': array([0.36071649, 0.29994755, 0.26255245]), 'std_score_time': array([0.08604527, 0.03833444, 0.10072579]), 'param_min_child_weight': masked_array(data=[0.5, 1, 1.5],\n",
            "             mask=[False, False, False],\n",
            "       fill_value='?',\n",
            "            dtype=object), 'params': [{'min_child_weight': 0.5}, {'min_child_weight': 1}, {'min_child_weight': 1.5}], 'split0_test_score': array([0.83492092, 0.83216203, 0.83103912]), 'split1_test_score': array([0.83451149, 0.83491414, 0.83423555]), 'split2_test_score': array([0.84882683, 0.84865761, 0.8492604 ]), 'split3_test_score': array([0.84795215, 0.85054271, 0.84789795]), 'split4_test_score': array([0.83983323, 0.83950782, 0.84263097]), 'mean_test_score': array([0.84120892, 0.84115686, 0.8410128 ]), 'std_test_score': array([0.00616102, 0.00730689, 0.00725882]), 'rank_test_score': array([1, 2, 3], dtype=int32)}\n",
            "{'min_child_weight': 0.5}\n",
            "0.8412089225112181\n"
          ],
          "name": "stdout"
        }
      ]
    },
    {
      "cell_type": "markdown",
      "metadata": {
        "id": "46Pgv7lfh7s1",
        "colab_type": "text"
      },
      "source": [
        "From this result, we can see that 0.5 is a better setting for the parameter of min_child_weight instead."
      ]
    },
    {
      "cell_type": "markdown",
      "metadata": {
        "id": "W9C9zyY_h_ds",
        "colab_type": "text"
      },
      "source": [
        "#Step 3: Tune gamma\n",
        "\n",
        "Next up, we shall be tuning the gamma value along with parameters we got the results above. We will check for 5 values first before going into more precise values if we deem the need to."
      ]
    },
    {
      "cell_type": "code",
      "metadata": {
        "id": "4kXn8mGlh_ox",
        "colab_type": "code",
        "outputId": "fe9258ae-3357-47b8-d0bd-c54a8e7a3bd7",
        "colab": {
          "base_uri": "https://localhost:8080/",
          "height": 171
        }
      },
      "source": [
        "param_test3 = {\n",
        " 'gamma':[i/10.0 for i in range(0,5)]\n",
        "}\n",
        "gsearch3 = GridSearchCV(estimator = XGBClassifier( learning_rate =0.1, n_estimators=140, max_depth=5,\n",
        " min_child_weight=0.5, gamma=0, subsample=0.8, colsample_bytree=0.8,\n",
        " objective= 'binary:logistic', nthread=4, scale_pos_weight=1,seed=27), \n",
        " param_grid = param_test3, scoring='roc_auc',n_jobs=4,iid=False, cv=5)\n",
        "gsearch3.fit(train[predictors],train[target])\n",
        "print(gsearch3.cv_results_)\n",
        "print(gsearch3.best_params_)\n",
        "print(gsearch3.best_score_)"
      ],
      "execution_count": 0,
      "outputs": [
        {
          "output_type": "stream",
          "text": [
            "/usr/local/lib/python3.6/dist-packages/sklearn/model_selection/_search.py:823: FutureWarning: The parameter 'iid' is deprecated in 0.22 and will be removed in 0.24.\n",
            "  \"removed in 0.24.\", FutureWarning\n"
          ],
          "name": "stderr"
        },
        {
          "output_type": "stream",
          "text": [
            "{'mean_fit_time': array([61.96089063, 61.96600738, 61.61696925, 61.76327777, 52.59540744]), 'std_fit_time': array([ 0.55345058,  0.18947557,  0.45485351,  0.74131163, 17.34842612]), 'mean_score_time': array([0.31320825, 0.32478175, 0.3269434 , 0.40973706, 0.24087834]), 'std_score_time': array([0.06364043, 0.03529179, 0.07943118, 0.03175395, 0.10882394]), 'param_gamma': masked_array(data=[0.0, 0.1, 0.2, 0.3, 0.4],\n",
            "             mask=[False, False, False, False, False],\n",
            "       fill_value='?',\n",
            "            dtype=object), 'params': [{'gamma': 0.0}, {'gamma': 0.1}, {'gamma': 0.2}, {'gamma': 0.3}, {'gamma': 0.4}], 'split0_test_score': array([0.83492092, 0.83226923, 0.83104245, 0.83223537, 0.8306142 ]), 'split1_test_score': array([0.83451149, 0.83277094, 0.8348315 , 0.83745564, 0.83403044]), 'split2_test_score': array([0.84882683, 0.84903047, 0.84882569, 0.84667922, 0.84931803]), 'split3_test_score': array([0.84795215, 0.84872496, 0.84944392, 0.8487835 , 0.84896015]), 'split4_test_score': array([0.83983323, 0.84347844, 0.84066732, 0.84220323, 0.84237165]), 'mean_test_score': array([0.84120892, 0.84125481, 0.84096218, 0.84147139, 0.84105889]), 'std_test_score': array([0.00616102, 0.00740169, 0.0073464 , 0.00604242, 0.00762702]), 'rank_test_score': array([3, 2, 5, 1, 4], dtype=int32)}\n",
            "{'gamma': 0.3}\n",
            "0.8414713910983369\n"
          ],
          "name": "stdout"
        }
      ]
    },
    {
      "cell_type": "markdown",
      "metadata": {
        "id": "W59a40Kjmbub",
        "colab_type": "text"
      },
      "source": [
        "This shows that a value of gamma = 0.3 is the optimum one.\n"
      ]
    },
    {
      "cell_type": "markdown",
      "metadata": {
        "id": "Oe88-Mu8mi7M",
        "colab_type": "text"
      },
      "source": [
        "#Step 4: Tune subsample and colsample_bytree\n",
        "The next step would be try different subsample and colsample_bytree values.\n",
        "\n",
        "Do note that we will be using the newly suggested gamma value as well."
      ]
    },
    {
      "cell_type": "code",
      "metadata": {
        "id": "qHeS0zsVk19t",
        "colab_type": "code",
        "outputId": "9bb4a201-1399-4b85-e22d-cd88b23b22a6",
        "colab": {
          "base_uri": "https://localhost:8080/",
          "height": 860
        }
      },
      "source": [
        "param_test4 = {\n",
        " 'subsample':[i/10.0 for i in range(6,10)],\n",
        " 'colsample_bytree':[i/10.0 for i in range(6,10)]\n",
        "}\n",
        "gsearch4 = GridSearchCV(estimator = XGBClassifier( learning_rate =0.1, n_estimators=140, max_depth=5,\n",
        " min_child_weight=0.5, gamma=0.3, subsample=0.8, colsample_bytree=0.8,\n",
        " objective= 'binary:logistic', nthread=4, scale_pos_weight=1,seed=27), \n",
        " param_grid = param_test4, scoring='roc_auc',n_jobs=4,iid=False, cv=5)\n",
        "gsearch4.fit(train[predictors],train[target])\n",
        "print(gsearch4.cv_results_)\n",
        "print(gsearch4.best_params_)\n",
        "print(gsearch4.best_score_)"
      ],
      "execution_count": 0,
      "outputs": [
        {
          "output_type": "stream",
          "text": [
            "/usr/local/lib/python3.6/dist-packages/sklearn/model_selection/_search.py:823: FutureWarning: The parameter 'iid' is deprecated in 0.22 and will be removed in 0.24.\n",
            "  \"removed in 0.24.\", FutureWarning\n"
          ],
          "name": "stderr"
        },
        {
          "output_type": "stream",
          "text": [
            "{'mean_fit_time': array([54.68055139, 53.21020937, 50.49306984, 47.54394798, 60.16224828,\n",
            "       58.63883367, 56.41463079, 56.94727197, 66.57893825, 64.36847806,\n",
            "       61.69836349, 58.62045751, 72.3100698 , 69.74179039, 66.60957036,\n",
            "       65.71326904]), 'std_fit_time': array([0.3255742 , 0.45627091, 0.42443723, 0.3189981 , 0.3387406 ,\n",
            "       0.39146867, 0.31275229, 1.79032972, 0.4927281 , 0.35806534,\n",
            "       0.47810393, 0.61177259, 0.1957043 , 0.17064665, 0.57708763,\n",
            "       0.93358594]), 'mean_score_time': array([0.30947227, 0.33711982, 0.37120404, 0.38045564, 0.36764646,\n",
            "       0.33879457, 0.3493753 , 0.38947887, 0.38088417, 0.37394176,\n",
            "       0.39657845, 0.3054131 , 0.38171124, 0.35173836, 0.34307518,\n",
            "       0.22712197]), 'std_score_time': array([0.07856062, 0.05894095, 0.07152877, 0.02811163, 0.05842296,\n",
            "       0.03342656, 0.08247312, 0.0507245 , 0.03527363, 0.03650064,\n",
            "       0.05716718, 0.06121919, 0.03670446, 0.02836604, 0.03922694,\n",
            "       0.10550831]), 'param_colsample_bytree': masked_array(data=[0.6, 0.6, 0.6, 0.6, 0.7, 0.7, 0.7, 0.7, 0.8, 0.8, 0.8,\n",
            "                   0.8, 0.9, 0.9, 0.9, 0.9],\n",
            "             mask=[False, False, False, False, False, False, False, False,\n",
            "                   False, False, False, False, False, False, False, False],\n",
            "       fill_value='?',\n",
            "            dtype=object), 'param_subsample': masked_array(data=[0.6, 0.7, 0.8, 0.9, 0.6, 0.7, 0.8, 0.9, 0.6, 0.7, 0.8,\n",
            "                   0.9, 0.6, 0.7, 0.8, 0.9],\n",
            "             mask=[False, False, False, False, False, False, False, False,\n",
            "                   False, False, False, False, False, False, False, False],\n",
            "       fill_value='?',\n",
            "            dtype=object), 'params': [{'colsample_bytree': 0.6, 'subsample': 0.6}, {'colsample_bytree': 0.6, 'subsample': 0.7}, {'colsample_bytree': 0.6, 'subsample': 0.8}, {'colsample_bytree': 0.6, 'subsample': 0.9}, {'colsample_bytree': 0.7, 'subsample': 0.6}, {'colsample_bytree': 0.7, 'subsample': 0.7}, {'colsample_bytree': 0.7, 'subsample': 0.8}, {'colsample_bytree': 0.7, 'subsample': 0.9}, {'colsample_bytree': 0.8, 'subsample': 0.6}, {'colsample_bytree': 0.8, 'subsample': 0.7}, {'colsample_bytree': 0.8, 'subsample': 0.8}, {'colsample_bytree': 0.8, 'subsample': 0.9}, {'colsample_bytree': 0.9, 'subsample': 0.6}, {'colsample_bytree': 0.9, 'subsample': 0.7}, {'colsample_bytree': 0.9, 'subsample': 0.8}, {'colsample_bytree': 0.9, 'subsample': 0.9}], 'split0_test_score': array([0.82280882, 0.83075182, 0.83205482, 0.83224846, 0.83314903,\n",
            "       0.8289292 , 0.83301405, 0.82958036, 0.8303929 , 0.8299581 ,\n",
            "       0.83223537, 0.83641147, 0.82734395, 0.8307105 , 0.83282409,\n",
            "       0.83248514]), 'split1_test_score': array([0.83245805, 0.82843759, 0.83170416, 0.83135936, 0.83397052,\n",
            "       0.82896639, 0.83409667, 0.83386412, 0.82878182, 0.83116928,\n",
            "       0.83745564, 0.83605037, 0.83104612, 0.83153325, 0.83040254,\n",
            "       0.8337475 ]), 'split2_test_score': array([0.84683975, 0.84802212, 0.8482532 , 0.8483082 , 0.84273215,\n",
            "       0.84486147, 0.84787257, 0.84381551, 0.84397684, 0.84653241,\n",
            "       0.84667922, 0.84833038, 0.84669809, 0.84809187, 0.84827447,\n",
            "       0.84518071]), 'split3_test_score': array([0.84665361, 0.84792459, 0.84878945, 0.84864138, 0.84476211,\n",
            "       0.84929814, 0.85089898, 0.84984707, 0.84494105, 0.8470347 ,\n",
            "       0.8487835 , 0.84786891, 0.84949628, 0.84431277, 0.84510479,\n",
            "       0.85049971]), 'split4_test_score': array([0.84012788, 0.84044871, 0.83800839, 0.84025079, 0.83620368,\n",
            "       0.83860215, 0.8388633 , 0.84327126, 0.83495682, 0.83883586,\n",
            "       0.84220323, 0.84279207, 0.83562696, 0.83798324, 0.84142744,\n",
            "       0.84360147]), 'mean_test_score': array([0.83777762, 0.83911697, 0.839762  , 0.84016164, 0.8381635 ,\n",
            "       0.83813147, 0.84094911, 0.84007566, 0.83660989, 0.83870607,\n",
            "       0.84147139, 0.84229064, 0.83804228, 0.83852632, 0.83960666,\n",
            "       0.84110291]), 'std_test_score': array([0.00915196, 0.00827858, 0.00749666, 0.00746162, 0.00471129,\n",
            "       0.00823273, 0.00722781, 0.00732685, 0.00672819, 0.00726587,\n",
            "       0.00604242, 0.005317  , 0.00866431, 0.00685956, 0.00691946,\n",
            "       0.00692155]), 'rank_test_score': array([15,  9,  7,  5, 12, 13,  4,  6, 16, 10,  2,  1, 14, 11,  8,  3],\n",
            "      dtype=int32)}\n",
            "{'colsample_bytree': 0.8, 'subsample': 0.9}\n",
            "0.8422906380045934\n"
          ],
          "name": "stdout"
        }
      ]
    },
    {
      "cell_type": "markdown",
      "metadata": {
        "id": "A2mv59BbnsQP",
        "colab_type": "text"
      },
      "source": [
        "Here, we found 0.8 as the optimum value for colsample_bytree and 0.9 for subsample. If we want to, we can try values in 0.05 interval around these too."
      ]
    },
    {
      "cell_type": "markdown",
      "metadata": {
        "id": "4ZLddH4d_8Fb",
        "colab_type": "text"
      },
      "source": [
        "#Step 5: Tuning Regularization Parameters\n",
        "\n",
        "The next step will be to apply regularisation to help reduce overfitting.\n"
      ]
    },
    {
      "cell_type": "code",
      "metadata": {
        "id": "Dm_GPzb5nurm",
        "colab_type": "code",
        "outputId": "6b481618-1c65-4b63-83d8-1124999f7d53",
        "colab": {
          "base_uri": "https://localhost:8080/",
          "height": 173
        }
      },
      "source": [
        "param_test6 = {\n",
        " 'reg_alpha':[1e-5, 1e-2, 0.1, 1, 100]\n",
        "}\n",
        "gsearch6 = GridSearchCV(estimator = XGBClassifier( learning_rate =0.1, n_estimators=140, max_depth=5,\n",
        " min_child_weight=0.5, gamma=0.3, subsample=0.9, colsample_bytree=0.8,\n",
        " objective= 'binary:logistic', nthread=4, scale_pos_weight=1,seed=27), \n",
        " param_grid = param_test6, scoring='roc_auc',n_jobs=4,iid=False, cv=5)\n",
        "gsearch6.fit(train[predictors],train[target])\n",
        "print(gsearch6.cv_results_)\n",
        "print(gsearch6.best_params_)\n",
        "print(gsearch6.best_score_)"
      ],
      "execution_count": 0,
      "outputs": [
        {
          "output_type": "stream",
          "text": [
            "/usr/local/lib/python3.6/dist-packages/sklearn/model_selection/_search.py:823: FutureWarning: The parameter 'iid' is deprecated in 0.22 and will be removed in 0.24.\n",
            "  \"removed in 0.24.\", FutureWarning\n"
          ],
          "name": "stderr"
        },
        {
          "output_type": "stream",
          "text": [
            "{'mean_fit_time': array([62.72286801, 62.46866693, 62.96803484, 62.71760402, 41.48248253]), 'std_fit_time': array([ 0.22788583,  0.21971557,  0.61190365,  0.46547968, 13.58111982]), 'mean_score_time': array([0.28598566, 0.31064944, 0.3453227 , 0.33134861, 0.14387298]), 'std_score_time': array([0.05336348, 0.07942805, 0.04146695, 0.03566774, 0.07121679]), 'param_reg_alpha': masked_array(data=[1e-05, 0.01, 0.1, 1, 100],\n",
            "             mask=[False, False, False, False, False],\n",
            "       fill_value='?',\n",
            "            dtype=object), 'params': [{'reg_alpha': 1e-05}, {'reg_alpha': 0.01}, {'reg_alpha': 0.1}, {'reg_alpha': 1}, {'reg_alpha': 100}], 'split0_test_score': array([0.83248502, 0.83380811, 0.83115929, 0.83329159, 0.793353  ]), 'split1_test_score': array([0.8337475 , 0.83504454, 0.83281892, 0.83318622, 0.7995628 ]), 'split2_test_score': array([0.84518093, 0.85084307, 0.85057872, 0.84887657, 0.82317119]), 'split3_test_score': array([0.85049971, 0.85015396, 0.84850966, 0.84843088, 0.83396425]), 'split4_test_score': array([0.84360147, 0.84559998, 0.84393305, 0.84369934, 0.81939094]), 'mean_test_score': array([0.84110293, 0.84308993, 0.84139993, 0.84149692, 0.81388844]), 'std_test_score': array([0.0069216 , 0.00731017, 0.00799649, 0.00698262, 0.01514208]), 'rank_test_score': array([4, 1, 3, 2, 5], dtype=int32)}\n",
            "{'reg_alpha': 0.01}\n",
            "0.8430899310614611\n"
          ],
          "name": "stdout"
        }
      ]
    },
    {
      "cell_type": "markdown",
      "metadata": {
        "id": "AHhB-89-AYzn",
        "colab_type": "text"
      },
      "source": [
        "We can then try values closer to the optimum here (0.01) to see if we get something better as well."
      ]
    },
    {
      "cell_type": "code",
      "metadata": {
        "id": "aeutIIXZtWJh",
        "colab_type": "code",
        "outputId": "f90fd3c7-3827-4fea-b3fa-83c376b6037e",
        "colab": {
          "base_uri": "https://localhost:8080/",
          "height": 173
        }
      },
      "source": [
        "param_test7 = {\n",
        " 'reg_alpha':[0, 0.001, 0.005, 0.01, 0.05]\n",
        "}\n",
        "gsearch7 = GridSearchCV(estimator = XGBClassifier( learning_rate =0.1, n_estimators=140, max_depth=5,\n",
        " min_child_weight=0.5, gamma=0.3, subsample=0.9, colsample_bytree=0.8,\n",
        " objective= 'binary:logistic', nthread=4, scale_pos_weight=1,seed=27), \n",
        " param_grid = param_test7, scoring='roc_auc',n_jobs=4,iid=False, cv=5)\n",
        "gsearch7.fit(train[predictors],train[target])\n",
        "print(gsearch7.cv_results_)\n",
        "print(gsearch7.best_params_)\n",
        "print(gsearch7.best_score_)\n"
      ],
      "execution_count": 0,
      "outputs": [
        {
          "output_type": "stream",
          "text": [
            "/usr/local/lib/python3.6/dist-packages/sklearn/model_selection/_search.py:823: FutureWarning: The parameter 'iid' is deprecated in 0.22 and will be removed in 0.24.\n",
            "  \"removed in 0.24.\", FutureWarning\n"
          ],
          "name": "stderr"
        },
        {
          "output_type": "stream",
          "text": [
            "{'mean_fit_time': array([58.7849916 , 57.95162716, 61.10813961, 59.32233977, 50.67809114]), 'std_fit_time': array([ 0.14309611,  0.30030964,  2.12286895,  1.88535378, 17.39348058]), 'mean_score_time': array([0.28177691, 0.36411209, 0.37778988, 0.29918947, 0.23338351]), 'std_score_time': array([0.03020581, 0.04974331, 0.0856723 , 0.02194331, 0.10401157]), 'param_reg_alpha': masked_array(data=[0, 0.001, 0.005, 0.01, 0.05],\n",
            "             mask=[False, False, False, False, False],\n",
            "       fill_value='?',\n",
            "            dtype=object), 'params': [{'reg_alpha': 0}, {'reg_alpha': 0.001}, {'reg_alpha': 0.005}, {'reg_alpha': 0.01}, {'reg_alpha': 0.05}], 'split0_test_score': array([0.83641147, 0.83663116, 0.8358542 , 0.83522027, 0.83418758]), 'split1_test_score': array([0.83605037, 0.8360506 , 0.83363812, 0.83231606, 0.83164184]), 'split2_test_score': array([0.84833038, 0.84841373, 0.84729024, 0.84601377, 0.84508009]), 'split3_test_score': array([0.84786891, 0.84791602, 0.84924897, 0.84988812, 0.84962537]), 'split4_test_score': array([0.84279207, 0.84337199, 0.84136867, 0.84207517, 0.84363565]), 'mean_test_score': array([0.84229064, 0.8424767 , 0.84148004, 0.84110268, 0.84083411]), 'std_test_score': array([0.005317  , 0.00531227, 0.00612002, 0.00654303, 0.00680937]), 'rank_test_score': array([2, 1, 3, 4, 5], dtype=int32)}\n",
            "{'reg_alpha': 0.001}\n",
            "0.8424766988426946\n"
          ],
          "name": "stdout"
        }
      ]
    },
    {
      "cell_type": "markdown",
      "metadata": {
        "id": "WsrLlttIvgVk",
        "colab_type": "text"
      },
      "source": [
        "You can see that we got a lousier CV. Now we can apply this regularization in the model and look at the impact. We can be using the former one as it provided a better CV result.\n",
        "\n"
      ]
    },
    {
      "cell_type": "code",
      "metadata": {
        "id": "kBE2JNr_ykLZ",
        "colab_type": "code",
        "outputId": "84a643ba-4eff-40fc-fc6e-7292e3294949",
        "colab": {
          "base_uri": "https://localhost:8080/",
          "height": 762
        }
      },
      "source": [
        "xgb3 = XGBClassifier(\n",
        " learning_rate =0.1,\n",
        " n_estimators=140,\n",
        " max_depth=5,\n",
        " min_child_weight=0.5,\n",
        " gamma=0.3,\n",
        " subsample=0.9,\n",
        " colsample_bytree=0.8,\n",
        " reg_alpha=0.001,\n",
        " objective= 'binary:logistic',\n",
        " nthread=4,\n",
        " scale_pos_weight=1,\n",
        " seed=27)\n",
        "modelfit(xgb3, train, predictors)"
      ],
      "execution_count": 0,
      "outputs": [
        {
          "output_type": "stream",
          "text": [
            "     train-auc-mean  train-auc-std  test-auc-mean  test-auc-std\n",
            "0          0.788873       0.006156       0.785794      0.017887\n",
            "1          0.801724       0.007518       0.794730      0.015317\n",
            "2          0.814470       0.005494       0.806025      0.017718\n",
            "3          0.819200       0.004463       0.810746      0.017574\n",
            "4          0.820484       0.004167       0.811009      0.017772\n",
            "..              ...            ...            ...           ...\n",
            "135        0.907719       0.002021       0.843590      0.012710\n",
            "136        0.908074       0.002053       0.843438      0.012826\n",
            "137        0.908290       0.002211       0.843350      0.012976\n",
            "138        0.908508       0.002192       0.843381      0.013097\n",
            "139        0.908935       0.002223       0.843416      0.013111\n",
            "\n",
            "[140 rows x 4 columns]\n",
            "\n",
            "Model Report\n",
            "Accuracy : 0.9854\n",
            "AUC Score (Train): 0.903265\n",
            "Best Iteration: 139\n"
          ],
          "name": "stdout"
        },
        {
          "output_type": "display_data",
          "data": {
            "image/png": "[encoded data removed]",
            "text/plain": [
              "<Figure size 864x288 with 1 Axes>"
            ]
          },
          "metadata": {
            "tags": [],
            "needs_background": "light"
          }
        }
      ]
    },
    {
      "cell_type": "markdown",
      "metadata": {
        "id": "Nw7OAWklyl7l",
        "colab_type": "text"
      },
      "source": [
        "Model Report\n",
        "Accuracy : 0.9854\n",
        "AUC Score (Train): 0.887355\n",
        "Best Iteration: 125"
      ]
    },
    {
      "cell_type": "markdown",
      "metadata": {
        "id": "htjkBSH2zLk8",
        "colab_type": "text"
      },
      "source": [
        "#Step 6: Reducing Learning Rate\n",
        "Lastly, we should lower the learning rate and add more trees. Lets use the cv function of XGBoost to do the job again."
      ]
    },
    {
      "cell_type": "code",
      "metadata": {
        "id": "7Tw-QlZEzPT2",
        "colab_type": "code",
        "outputId": "d31c4b76-1f26-439c-91c3-4dcf729ed9dd",
        "colab": {
          "base_uri": "https://localhost:8080/",
          "height": 762
        }
      },
      "source": [
        "xgb4 = XGBClassifier(\n",
        " learning_rate =0.01,\n",
        " n_estimators=1000,\n",
        " max_depth=5,\n",
        " min_child_weight=0.5,\n",
        " gamma=0.3,\n",
        " subsample=0.9,\n",
        " colsample_bytree=0.8,\n",
        " reg_alpha=0.001,\n",
        " objective= 'binary:logistic',\n",
        " nthread=4,\n",
        " scale_pos_weight=1,\n",
        " seed=27)\n",
        "modelfit(xgb3, train, predictors)"
      ],
      "execution_count": 0,
      "outputs": [
        {
          "output_type": "stream",
          "text": [
            "     train-auc-mean  train-auc-std  test-auc-mean  test-auc-std\n",
            "0          0.788873       0.006156       0.785794      0.017887\n",
            "1          0.801724       0.007518       0.794730      0.015317\n",
            "2          0.814470       0.005494       0.806025      0.017718\n",
            "3          0.819200       0.004463       0.810746      0.017574\n",
            "4          0.820484       0.004167       0.811009      0.017772\n",
            "..              ...            ...            ...           ...\n",
            "135        0.907719       0.002021       0.843590      0.012710\n",
            "136        0.908074       0.002053       0.843438      0.012826\n",
            "137        0.908290       0.002211       0.843350      0.012976\n",
            "138        0.908508       0.002192       0.843381      0.013097\n",
            "139        0.908935       0.002223       0.843416      0.013111\n",
            "\n",
            "[140 rows x 4 columns]\n",
            "\n",
            "Model Report\n",
            "Accuracy : 0.9854\n",
            "AUC Score (Train): 0.903265\n",
            "Best Iteration: 139\n"
          ],
          "name": "stdout"
        },
        {
          "output_type": "display_data",
          "data": {
            "image/png": "[encoded data removed]",
            "text/plain": [
              "<Figure size 864x288 with 1 Axes>"
            ]
          },
          "metadata": {
            "tags": [],
            "needs_background": "light"
          }
        }
      ]
    }
  ]
}